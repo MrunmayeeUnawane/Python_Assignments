{
 "cells": [
  {
   "cell_type": "code",
   "execution_count": 9,
   "id": "63c6b36d",
   "metadata": {},
   "outputs": [
    {
     "name": "stdout",
     "output_type": "stream",
     "text": [
      "Hello Python\n"
     ]
    }
   ],
   "source": [
    "#Q1 Write a Python program to print \"Hello Python\"?\n",
    "print('Hello Python')"
   ]
  },
  {
   "cell_type": "code",
   "execution_count": 10,
   "id": "a15a4aae",
   "metadata": {},
   "outputs": [
    {
     "name": "stdout",
     "output_type": "stream",
     "text": [
      "Enter any number a : 20\n",
      "Enter any number b : 30\n",
      "addition 50 \n",
      " division 0.6666666666666666\n"
     ]
    }
   ],
   "source": [
    "#Q2 Write a Python program to do arithmetical operations addition and division.?\n",
    "a = int(input('Enter any number a : '))\n",
    "b = int(input('Enter any number b : '))\n",
    "print('addition', a+b, '\\n division' , a/b)"
   ]
  },
  {
   "cell_type": "code",
   "execution_count": 11,
   "id": "c9d6731c",
   "metadata": {},
   "outputs": [
    {
     "name": "stdout",
     "output_type": "stream",
     "text": [
      "Enter the base of the triangle : 3\n",
      "Enter the height of the triangle : 4\n",
      "Area of triangle is =  6.0\n"
     ]
    }
   ],
   "source": [
    "#Q3 Write a Python program to find the area of a triangle?\n",
    "base = float(input('Enter the base of the triangle : '))\n",
    "height = float(input('Enter the height of the triangle : '))\n",
    "print('Area of triangle is = ',0.5*base*height)"
   ]
  },
  {
   "cell_type": "code",
   "execution_count": 12,
   "id": "791e9f2b",
   "metadata": {},
   "outputs": [
    {
     "name": "stdout",
     "output_type": "stream",
     "text": [
      "Before swapping a= 20 b= 30\n",
      "After swapping a= 30 b= 20\n"
     ]
    }
   ],
   "source": [
    "#Q4 Write a Python program to swap two variables?\n",
    "print('Before swapping a=',a, 'b=',b)\n",
    "a,b=b,a\n",
    "print('After swapping a=',a, 'b=',b)"
   ]
  },
  {
   "cell_type": "code",
   "execution_count": 13,
   "id": "0967f780",
   "metadata": {},
   "outputs": [
    {
     "name": "stdout",
     "output_type": "stream",
     "text": [
      "Randomly generated number is  31\n"
     ]
    }
   ],
   "source": [
    "#Q5 Write a Python program to generate a random number?\n",
    "import random\n",
    "rand_number = random.randrange(100)\n",
    "print('Randomly generated number is ',rand_number)"
   ]
  }
 ],
 "metadata": {
  "kernelspec": {
   "display_name": "Python 3 (ipykernel)",
   "language": "python",
   "name": "python3"
  },
  "language_info": {
   "codemirror_mode": {
    "name": "ipython",
    "version": 3
   },
   "file_extension": ".py",
   "mimetype": "text/x-python",
   "name": "python",
   "nbconvert_exporter": "python",
   "pygments_lexer": "ipython3",
   "version": "3.9.7"
  }
 },
 "nbformat": 4,
 "nbformat_minor": 5
}
