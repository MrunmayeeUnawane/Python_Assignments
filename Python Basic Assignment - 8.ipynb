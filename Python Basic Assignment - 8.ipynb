{
 "cells": [
  {
   "cell_type": "code",
   "execution_count": 5,
   "id": "997b5a3d",
   "metadata": {},
   "outputs": [
    {
     "name": "stdout",
     "output_type": "stream",
     "text": [
      "Enter the Number of rows : 2\n",
      "Enter the Number of Columns: 2\n",
      "Enter the elements of First Matrix:\n",
      "1\n",
      "2\n",
      "3\n",
      "4\n",
      "First Matrix is: \n",
      "[1, 2]\n",
      "[3, 4]\n",
      "Enter the elements of Second Matrix:\n",
      "1\n",
      "2\n",
      "3\n",
      "4\n",
      "Second Matrix is: \n",
      "[1, 2]\n",
      "[3, 4]\n",
      "The Sum of Above two Matrices is : \n",
      "[2, 4]\n",
      "[6, 8]\n"
     ]
    }
   ],
   "source": [
    "#matrix addition in python\n",
    "rows = int(input(\"Enter the Number of rows : \" ))\n",
    "column = int(input(\"Enter the Number of Columns: \"))\n",
    "\n",
    "print(\"Enter the elements of First Matrix:\")\n",
    "matrix_a= [[int(input()) for i in range(column)] for i in range(rows)]\n",
    "print(\"First Matrix is: \")\n",
    "for n in matrix_a:\n",
    "    print(n)\n",
    "    \n",
    "print(\"Enter the elements of Second Matrix:\")\n",
    "matrix_b= [[int(input()) for i in range(column)] for i in range(rows)]\n",
    "print(\"Second Matrix is: \")\n",
    "for n in matrix_b:\n",
    "    print(n)\n",
    "\n",
    "result=[[0 for i in range(column)] for i in range(rows)]\n",
    "\n",
    "for i in range(rows):\n",
    "    for j in range(column):\n",
    "        result[i][j] = matrix_a[i][j]+matrix_b[i][j]\n",
    "\n",
    "print(\"The Sum of Above two Matrices is : \")\n",
    "for r in result:\n",
    "    print(r)"
   ]
  },
  {
   "cell_type": "code",
   "execution_count": 15,
   "id": "e68efa2b",
   "metadata": {},
   "outputs": [
    {
     "name": "stdout",
     "output_type": "stream",
     "text": [
      "brown dog fox jumps lazy over quick the the\n"
     ]
    }
   ],
   "source": [
    "# Write a Python Program to Sort Words in Alphabetic Order\n",
    "def Func(S):\n",
    "    W = S.split(\" \")\n",
    "    for i in range(len(W)):\n",
    "        W[i]=W[i].lower()\n",
    "        S = sorted(W)\n",
    "    print(\" \".join(S))\n",
    "\n",
    "# Driver code\n",
    "S = \"the Quick brown fox jumPs over the lazY Dog\"\n",
    "\n",
    "# function call\n",
    "Func(S)"
   ]
  },
  {
   "cell_type": "code",
   "execution_count": 3,
   "id": "d57ab1be",
   "metadata": {},
   "outputs": [
    {
     "data": {
      "text/plain": [
       "array([[1, 4],\n",
       "       [2, 5],\n",
       "       [3, 6]])"
      ]
     },
     "execution_count": 3,
     "metadata": {},
     "output_type": "execute_result"
    }
   ],
   "source": [
    "#Write a Python Program to Transpose a Matrix?\n",
    "import numpy as np\n",
    "\n",
    "np.ndarray((2,))\n",
    "np.transpose(np.arange(1,7).reshape(2,3))\n"
   ]
  },
  {
   "cell_type": "code",
   "execution_count": 17,
   "id": "a31717b2",
   "metadata": {},
   "outputs": [
    {
     "data": {
      "text/plain": [
       "'My name is mrunmayee here abcd '"
      ]
     },
     "execution_count": 17,
     "metadata": {},
     "output_type": "execute_result"
    }
   ],
   "source": [
    "#Write a Python Program to Remove Punctuation From a String?\n",
    "a=\"My name is mrunmayee,here'abcd'\"\n",
    "ls1=[',',\"'\",'.','!','?','_','-']\n",
    "for i in a:\n",
    "    if i in ls1:\n",
    "#         print(i)\n",
    "        a=a.replace(i,' ')\n",
    "a"
   ]
  }
 ],
 "metadata": {
  "kernelspec": {
   "display_name": "Python 3 (ipykernel)",
   "language": "python",
   "name": "python3"
  },
  "language_info": {
   "codemirror_mode": {
    "name": "ipython",
    "version": 3
   },
   "file_extension": ".py",
   "mimetype": "text/x-python",
   "name": "python",
   "nbconvert_exporter": "python",
   "pygments_lexer": "ipython3",
   "version": "3.9.7"
  }
 },
 "nbformat": 4,
 "nbformat_minor": 5
}
