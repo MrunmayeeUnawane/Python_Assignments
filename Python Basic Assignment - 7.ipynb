{
 "cells": [
  {
   "cell_type": "code",
   "execution_count": 12,
   "id": "afe2e833",
   "metadata": {},
   "outputs": [
    {
     "data": {
      "text/plain": [
       "10"
      ]
     },
     "execution_count": 12,
     "metadata": {},
     "output_type": "execute_result"
    }
   ],
   "source": [
    "# Write a Python Program to find sum of array?\n",
    "import array as arr\n",
    "\n",
    "a = arr.array('i',[4,5,6,3,-8])\n",
    "sum(a)\n"
   ]
  },
  {
   "cell_type": "code",
   "execution_count": 5,
   "id": "1bbd9677",
   "metadata": {},
   "outputs": [
    {
     "name": "stdout",
     "output_type": "stream",
     "text": [
      "10\n"
     ]
    }
   ],
   "source": [
    "summ=0\n",
    "for i in a:\n",
    "    summ=summ+i\n",
    "print(summ)"
   ]
  },
  {
   "cell_type": "code",
   "execution_count": 10,
   "id": "f86b03a5",
   "metadata": {},
   "outputs": [
    {
     "data": {
      "text/plain": [
       "6"
      ]
     },
     "execution_count": 10,
     "metadata": {},
     "output_type": "execute_result"
    }
   ],
   "source": [
    "#Write a Python Program to find largest element in an array?\n",
    "max(a)"
   ]
  },
  {
   "cell_type": "code",
   "execution_count": 7,
   "id": "751d1335",
   "metadata": {},
   "outputs": [
    {
     "data": {
      "text/plain": [
       "-8"
      ]
     },
     "execution_count": 7,
     "metadata": {},
     "output_type": "execute_result"
    }
   ],
   "source": [
    "min(a)"
   ]
  },
  {
   "cell_type": "code",
   "execution_count": 17,
   "id": "6c95d776",
   "metadata": {},
   "outputs": [
    {
     "name": "stdout",
     "output_type": "stream",
     "text": [
      "Largest element is: 6\n"
     ]
    }
   ],
   "source": [
    "def myMax(a):\n",
    "  \n",
    "    # Assume first number in list is largest\n",
    "    # initially and assign it to variable \"max\"\n",
    "    max = a[0]\n",
    "   \n",
    "    # Now traverse through the list and compare \n",
    "    # each number with \"max\" value. Whichever is \n",
    "    # largest assign that value to \"max'.\n",
    "    for x in a:\n",
    "        if x > max :\n",
    "             max = x\n",
    "      \n",
    "    # after complete traversing the list \n",
    "    # return the \"max\" value\n",
    "    return max\n",
    "  \n",
    "  # Driver code\n",
    "\n",
    "a = arr.array('i',[4,5,6,3,-8])\n",
    "print(\"Largest element is:\", myMax(a))"
   ]
  },
  {
   "cell_type": "code",
   "execution_count": 31,
   "id": "85b955db",
   "metadata": {},
   "outputs": [],
   "source": [
    "#Write a Python Program for array rotation?"
   ]
  },
  {
   "cell_type": "code",
   "execution_count": 32,
   "id": "5a445c27",
   "metadata": {},
   "outputs": [
    {
     "name": "stdout",
     "output_type": "stream",
     "text": [
      "Rotated list is\n",
      "[6, 7, 8, 9, 1, 2, 3, 4, 5]\n"
     ]
    }
   ],
   "source": [
    "def rotateArray(a,d):\n",
    "    n=len(a)\n",
    "    a[:]=a[d:n]+a[0:d]\n",
    "    return a\n",
    "\n",
    "arr = [1,2,3,4,5,6,7,8,9]\n",
    "\n",
    "print(\"Rotated list is\")\n",
    "print(rotateArray(arr,5)) "
   ]
  },
  {
   "cell_type": "code",
   "execution_count": 33,
   "id": "6593b274",
   "metadata": {},
   "outputs": [],
   "source": [
    "#Write a Python Program to Split the array and add the first part to the end?"
   ]
  },
  {
   "cell_type": "code",
   "execution_count": 38,
   "id": "247b2b0b",
   "metadata": {},
   "outputs": [
    {
     "name": "stdout",
     "output_type": "stream",
     "text": [
      "5 6 52 36 12 10 "
     ]
    }
   ],
   "source": [
    "def splitArr(arr, n, k):\n",
    "    for i in range(0, k):\n",
    "        x = arr[0]\n",
    "        for j in range(0, n-1):\n",
    "            arr[j] = arr[j + 1]\n",
    "         \n",
    "        arr[n-1] = x\n",
    "         \n",
    " \n",
    "# main\n",
    "arr = [12, 10, 5, 6, 52, 36]\n",
    "n = len(arr)\n",
    "position = 2\n",
    " \n",
    "splitArr(arr, n, position)\n",
    " \n",
    "for i in range(0, n):\n",
    "    print(arr[i], end = ' ')"
   ]
  },
  {
   "cell_type": "code",
   "execution_count": 37,
   "id": "58ba7b12",
   "metadata": {},
   "outputs": [
    {
     "name": "stdout",
     "output_type": "stream",
     "text": [
      "False\n"
     ]
    }
   ],
   "source": [
    "#Write a Python Program to check if given array is Monotonic?\n",
    "\n",
    "def isMonotonic(A):\n",
    "    return (all(A[i] <= A[i+1] for i in range(len(A) -1)) or \n",
    "           all(A[i] >= A[i+1] for i in range(len(A) -1)))\n",
    "            \n",
    "print(isMonotonic(a))"
   ]
  },
  {
   "cell_type": "code",
   "execution_count": 39,
   "id": "a9e5b8b4",
   "metadata": {},
   "outputs": [],
   "source": [
    "arr = [12, 10, 5, 6, 52, 36]\n",
    "n = len(arr)"
   ]
  },
  {
   "cell_type": "code",
   "execution_count": 40,
   "id": "c8e9bb02",
   "metadata": {},
   "outputs": [
    {
     "data": {
      "text/plain": [
       "6"
      ]
     },
     "execution_count": 40,
     "metadata": {},
     "output_type": "execute_result"
    }
   ],
   "source": [
    "n"
   ]
  }
 ],
 "metadata": {
  "kernelspec": {
   "display_name": "Python 3 (ipykernel)",
   "language": "python",
   "name": "python3"
  },
  "language_info": {
   "codemirror_mode": {
    "name": "ipython",
    "version": 3
   },
   "file_extension": ".py",
   "mimetype": "text/x-python",
   "name": "python",
   "nbconvert_exporter": "python",
   "pygments_lexer": "ipython3",
   "version": "3.9.7"
  }
 },
 "nbformat": 4,
 "nbformat_minor": 5
}
