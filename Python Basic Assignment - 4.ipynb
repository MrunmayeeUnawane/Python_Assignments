{
 "cells": [
  {
   "cell_type": "code",
   "execution_count": 1,
   "id": "b15fe834",
   "metadata": {},
   "outputs": [
    {
     "name": "stdout",
     "output_type": "stream",
     "text": [
      "Enter a number to find its factorial 4\n",
      "24\n"
     ]
    }
   ],
   "source": [
    "#1.Write a Python Program to Find the Factorial of a Number\n",
    "num= int(input('Enter a number to find its factorial '))\n",
    "fact=1\n",
    "for i in range(1,num+1):\n",
    "    fact=fact*i\n",
    "print(fact)"
   ]
  },
  {
   "cell_type": "code",
   "execution_count": 2,
   "id": "64543c25",
   "metadata": {},
   "outputs": [
    {
     "name": "stdout",
     "output_type": "stream",
     "text": [
      "Enter a number to find its multiplication table 5\n",
      "5 * 1 = 5\n",
      "5 * 2 = 10\n",
      "5 * 3 = 15\n",
      "5 * 4 = 20\n",
      "5 * 5 = 25\n",
      "5 * 6 = 30\n",
      "5 * 7 = 35\n",
      "5 * 8 = 40\n",
      "5 * 9 = 45\n",
      "5 * 10 = 50\n"
     ]
    }
   ],
   "source": [
    "#2.Write a Python Program to Display the multiplication Table?\n",
    "num= int(input('Enter a number to find its multiplication table '))\n",
    "for i in range(1,11):\n",
    "    print(num ,'*',i,'=',num*i)"
   ]
  },
  {
   "cell_type": "code",
   "execution_count": 3,
   "id": "dc67b6b9",
   "metadata": {},
   "outputs": [
    {
     "name": "stdout",
     "output_type": "stream",
     "text": [
      "1\n",
      "1\n",
      "2\n",
      "3\n",
      "5\n",
      "8\n",
      "13\n",
      "21\n",
      "34\n",
      "55\n"
     ]
    }
   ],
   "source": [
    "#3.Write a Python Program to Print the Fibonacci sequence?\n",
    "def genfi(n):\n",
    "    a=1\n",
    "    b=1\n",
    "    for i in range(n):\n",
    "        yield a\n",
    "        a,b=b,a+b\n",
    "for i in genfi(10):\n",
    "    print(i)"
   ]
  },
  {
   "cell_type": "code",
   "execution_count": 4,
   "id": "f90913a4",
   "metadata": {},
   "outputs": [
    {
     "name": "stdout",
     "output_type": "stream",
     "text": [
      "Enter the no. to check if its an Armstrong No. 370\n",
      "This is an Armstrong Number\n"
     ]
    }
   ],
   "source": [
    "#4.Write a Python Program to Check Armstrong Number?\n",
    "num = int(input(\"Enter the no. to check if its an Armstrong No. \"))\n",
    "temp= num\n",
    "sum =0\n",
    "\n",
    "while num>0:\n",
    "    rem = int(num%10)\n",
    "    sum = sum+(rem*rem*rem)\n",
    "    num = num/10\n",
    "\n",
    "if (sum == temp):\n",
    "    print(\"This is an Armstrong Number\")\n",
    "else:\n",
    "    print(\"This is not an Armstrong Number\")"
   ]
  },
  {
   "cell_type": "code",
   "execution_count": null,
   "id": "284cfbb9",
   "metadata": {},
   "outputs": [],
   "source": [
    "#5.Write a Python Program to Find Armstrong Number in an Interval?\n",
    "list = []\n",
    "nr = 1\n",
    "while (nr<=4000):\n",
    "    temp= nr\n",
    "    sum = 0\n",
    "    dummy = nr\n",
    "\n",
    "    while (temp>0):\n",
    "        rem = int(temp%10)\n",
    "        sum = sum+(rem*rem*rem)\n",
    "        temp = temp/10\n",
    "\n",
    "    if (sum == dummy):\n",
    "        list.append(nr)\n",
    "    nr = nr+1\n",
    "print(list)"
   ]
  },
  {
   "cell_type": "code",
   "execution_count": null,
   "id": "ead16026",
   "metadata": {},
   "outputs": [],
   "source": [
    "#6.Write a Python Program to Find the Sum of Natural Numbers?\n",
    "n = int(input(\"Enter the no. to to find sum of it \"))\n",
    "sum = (n*(n+1)/2)\n",
    "print(sum)"
   ]
  },
  {
   "cell_type": "code",
   "execution_count": null,
   "id": "9a851ca8",
   "metadata": {},
   "outputs": [],
   "source": []
  },
  {
   "cell_type": "code",
   "execution_count": null,
   "id": "f7fb7724",
   "metadata": {},
   "outputs": [],
   "source": []
  }
 ],
 "metadata": {
  "kernelspec": {
   "display_name": "Python 3 (ipykernel)",
   "language": "python",
   "name": "python3"
  },
  "language_info": {
   "codemirror_mode": {
    "name": "ipython",
    "version": 3
   },
   "file_extension": ".py",
   "mimetype": "text/x-python",
   "name": "python",
   "nbconvert_exporter": "python",
   "pygments_lexer": "ipython3",
   "version": "3.9.7"
  }
 },
 "nbformat": 4,
 "nbformat_minor": 5
}
