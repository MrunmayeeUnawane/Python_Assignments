{
 "cells": [
  {
   "cell_type": "code",
   "execution_count": 2,
   "id": "439cb1e3",
   "metadata": {},
   "outputs": [
    {
     "name": "stdout",
     "output_type": "stream",
     "text": [
      "Fibonnaci series is: \n",
      "0\n",
      "1\n",
      "1\n",
      "2\n",
      "3\n",
      "5\n",
      "8\n",
      "13\n",
      "21\n",
      "34\n",
      "55\n"
     ]
    }
   ],
   "source": [
    "# Python program to display the Fibonacci sequence\n",
    "\n",
    "def recur_fibo(n):\n",
    "    if n <=1:\n",
    "        return n\n",
    "    else:\n",
    "        return(recur_fibo(n-1)+recur_fibo(n-2))\n",
    "nterms=10\n",
    "\n",
    "#check if n terms is valid\n",
    "if nterms<1:\n",
    "    print('Please enter positive no.')\n",
    "else:\n",
    "    print('Fibonnaci series is: ')\n",
    "    for i in range(nterms+1):\n",
    "        print(recur_fibo(i))"
   ]
  },
  {
   "cell_type": "code",
   "execution_count": 4,
   "id": "8a093d11",
   "metadata": {},
   "outputs": [
    {
     "name": "stdout",
     "output_type": "stream",
     "text": [
      "enter any number for factorial 5\n",
      "factorial of number is 120\n"
     ]
    }
   ],
   "source": [
    "ls=[]\n",
    "def factorial(nr,summ):\n",
    "\n",
    "    summ=summ*nr\n",
    "    if nr>1:\n",
    "        factorial(nr-1,summ)\n",
    "        ls.append(summ)\n",
    "\n",
    "summ=1\n",
    "nr=int(input(\"enter any number for factorial \"))\n",
    "factorial(nr,summ)\n",
    "print(\"factorial of number is\",ls[0])"
   ]
  },
  {
   "cell_type": "code",
   "execution_count": 7,
   "id": "4b7cfb39",
   "metadata": {},
   "outputs": [
    {
     "name": "stdout",
     "output_type": "stream",
     "text": [
      "enter height in m 2\n",
      "enter weight in kg 53\n",
      "your bmi index is 0.03773584905660377\n"
     ]
    }
   ],
   "source": [
    "def bmi():\n",
    "    ht=int(input(\"enter height in m \"))\n",
    "    wt=int(input(\"enter weight in kg \"))\n",
    "    bmi_index=ht/wt\n",
    "    return bmi_index\n",
    "print(\"your bmi index is\",bmi())"
   ]
  },
  {
   "cell_type": "code",
   "execution_count": 10,
   "id": "e3b53d87",
   "metadata": {},
   "outputs": [
    {
     "name": "stdout",
     "output_type": "stream",
     "text": [
      "enter value for x4\n",
      "enter value for y5\n",
      "1-addition\n",
      "2-subtraction\n",
      "3- multiplication\n",
      "4- reciprocal\n",
      "enter operation to input1\n",
      "ans 1.3010299956639813\n"
     ]
    }
   ],
   "source": [
    "import math as m\n",
    "\n",
    "def log(x,y):\n",
    "    print(\"1-addition\")\n",
    "    print('2-subtraction')\n",
    "    print(\"3- multiplication\")\n",
    "    print(\"4- reciprocal\")\n",
    "    inp=input(\"enter operation to input\")\n",
    "    if inp=='1':\n",
    "        print(\"ans \"+str(m.log10(x)+m.log10(y)))\n",
    "    if inp=='2':\n",
    "        print(\"ans \"+str(m.log10(x)-m.log10(y)))\n",
    "    if inp=='3':\n",
    "        print(\"ans \"+str(y*m.log10(x)))\n",
    "    \n",
    "\n",
    "x=int(input(\"enter value for x\"))\n",
    "y=int(input(\"enter value for y\"))\n",
    "log(x,y)"
   ]
  }
 ],
 "metadata": {
  "kernelspec": {
   "display_name": "Python 3 (ipykernel)",
   "language": "python",
   "name": "python3"
  },
  "language_info": {
   "codemirror_mode": {
    "name": "ipython",
    "version": 3
   },
   "file_extension": ".py",
   "mimetype": "text/x-python",
   "name": "python",
   "nbconvert_exporter": "python",
   "pygments_lexer": "ipython3",
   "version": "3.9.7"
  }
 },
 "nbformat": 4,
 "nbformat_minor": 5
}
